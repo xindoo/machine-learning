{
 "cells": [
  {
   "cell_type": "code",
   "execution_count": 97,
   "metadata": {},
   "outputs": [
    {
     "data": {
      "image/png": "[encoded data removed]",
      "text/plain": [
       "<matplotlib.figure.Figure at 0x1a16d95a90>"
      ]
     },
     "metadata": {},
     "output_type": "display_data"
    }
   ],
   "source": [
    "import matplotlib.pyplot as plt\n",
    "import numpy as np\n",
    "from scipy import stats \n",
    "from numpy import random\n",
    "                     \n",
    "N = 40\n",
    "nx1 = random.randn(N)+3   # negative points\n",
    "nx2 = random.randn(N)+3\n",
    "px1 = random.randn(N)   #positive points\n",
    "px2 = random.randn(N)\n",
    "theta = np.matrix(np.zeros(2))\n",
    "plt.plot(nx1, nx2, 'x')\n",
    "plt.plot(px1, px2, '.')\n",
    "plt.show()"
   ]
  },
  {
   "cell_type": "code",
   "execution_count": 98,
   "metadata": {},
   "outputs": [
    {
     "name": "stdout",
     "output_type": "stream",
     "text": [
      "[ 0.  0.  0.  0.  0.  0.  0.  0.  0.  0.  0.  0.  0.  0.  0.  0.  0.  0.\n",
      "  0.  0.  0.  0.  0.  0.  0.  0.  0.  0.  0.  0.  0.  0.  0.  0.  0.  0.\n",
      "  0.  0.  0.  0.  1.  1.  1.  1.  1.  1.  1.  1.  1.  1.  1.  1.  1.  1.\n",
      "  1.  1.  1.  1.  1.  1.  1.  1.  1.  1.  1.  1.  1.  1.  1.  1.  1.  1.\n",
      "  1.  1.  1.  1.  1.  1.  1.  1.]\n"
     ]
    }
   ],
   "source": [
    "nX = np.r_[np.matrix(nx1),np.matrix(nx2)]\n",
    "pX = np.r_[np.matrix(px1),np.matrix(px2)]\n",
    "X = np.c_[nX, pX]\n",
    "y = np.r_[np.zeros(N),np.ones(N)]\n",
    "print y"
   ]
  },
  {
   "cell_type": "code",
   "execution_count": 100,
   "metadata": {},
   "outputs": [
    {
     "name": "stdout",
     "output_type": "stream",
     "text": [
      "[[ 29.21777162]]\n",
      "[[ 29.20350659]]\n",
      "[[ 29.19332251]]\n",
      "[[ 29.18594788]]\n",
      "[[ 29.18054308]]\n",
      "[[ 29.17654102]]\n",
      "[[ 29.1735512]]\n",
      "[[ 29.17130029]]\n",
      "[[ 29.16959417]]\n",
      "[[ 29.16829328]]\n",
      "[[-0.67025854 -0.66777878]]\n"
     ]
    }
   ],
   "source": [
    "def sigmoid(x):\n",
    "    return 1.0/(1+np.exp(-x))\n",
    "\n",
    "for i in range(10000): \n",
    "    theta = theta - 0.00001*((sigmoid(theta*X) - y)*X.T)\n",
    "    if i % 1000 == 0:\n",
    "        print (1-y)*(-np.log(1-sigmoid(theta*X)).T) + y*(-np.log(sigmoid(theta*X)).T)  # loss\n",
    "print theta"
   ]
  },
  {
   "cell_type": "code",
   "execution_count": 101,
   "metadata": {},
   "outputs": [],
   "source": [
    "from sklearn.linear_model import LogisticRegression"
   ]
  },
  {
   "cell_type": "code",
   "execution_count": 103,
   "metadata": {},
   "outputs": [
    {
     "name": "stdout",
     "output_type": "stream",
     "text": [
      "[ 1.]\n",
      "[ 1.]\n",
      "[ 0.]\n"
     ]
    }
   ],
   "source": [
    "lr = LogisticRegression(max_iter=100000)\n",
    "lr.fit(X.T,np.matrix(y).T)\n",
    "print lr.predict(np.matrix([-10,-10]))\n",
    "print lr.predict(np.matrix([2,0]))\n",
    "print lr.predict(np.matrix([3,3]))"
   ]
  },
  {
   "cell_type": "code",
   "execution_count": null,
   "metadata": {
    "collapsed": true
   },
   "outputs": [],
   "source": []
  }
 ],
 "metadata": {
  "kernelspec": {
   "display_name": "Python 2",
   "language": "python",
   "name": "python2"
  },
  "language_info": {
   "codemirror_mode": {
    "name": "ipython",
    "version": 2
   },
   "file_extension": ".py",
   "mimetype": "text/x-python",
   "name": "python",
   "nbconvert_exporter": "python",
   "pygments_lexer": "ipython2",
   "version": "2.7.14"
  }
 },
 "nbformat": 4,
 "nbformat_minor": 2
}
