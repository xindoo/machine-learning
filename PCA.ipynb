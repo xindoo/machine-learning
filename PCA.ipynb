{
 "cells": [
  {
   "cell_type": "code",
   "execution_count": 12,
   "metadata": {},
   "outputs": [],
   "source": [
    "import pandas as pd\n",
    "import numpy as np"
   ]
  },
  {
   "cell_type": "code",
   "execution_count": 25,
   "metadata": {},
   "outputs": [
    {
     "name": "stdout",
     "output_type": "stream",
     "text": [
      "[ 3.06605533  1.70744748  1.03914395  0.00523248  0.09423799  0.47243744\n",
      "  0.25531389  0.35962724]\n",
      "[ 0.00523248  0.09423799  0.25531389  0.35962724  0.47243744  1.03914395\n",
      "  1.70744748  3.06605533]\n",
      "[3 4 6 7 5 2 1 0]\n",
      "[[ 1.12079918  1.11362517 -0.18861185  0.31775285]\n",
      " [ 1.9864402   0.29419575  2.34520492  0.13983066]\n",
      " [ 1.17864301  0.23472637 -0.68914808  0.59235244]\n",
      " [ 0.22064404 -1.34092609 -0.59850769 -1.29103677]\n",
      " [-0.94324356  1.14777609 -1.31899287  0.5209657 ]\n",
      " [ 0.9156826  -2.36191111 -0.17813629  0.23964865]\n",
      " [ 0.94893643  1.68043216 -0.29880664 -1.1699929 ]\n",
      " [-0.1762288   0.28376055 -0.09637104  0.55405678]\n",
      " [-1.12504939 -1.48337153 -0.03141206  0.27669809]\n",
      " [-4.12662371  0.43169265  1.05478161 -0.18027551]]\n"
     ]
    }
   ],
   "source": [
    "arr = np.random.randn(10, 8)\n",
    "\n",
    "m = np.matrix(arr)   \n",
    "m = m-np.mean(m,axis=0)   #每列去均值 \n",
    "cov = np.cov(m,rowvar=0)   #计算每两列之间的协方差\n",
    "# print np.linalg.eig(m)\n",
    "e,v= np.linalg.eig(cov)\n",
    "sortede = np.sort(e)\n",
    "# print e\n",
    "# print sortede\n",
    "sortedindex = np.argsort(e)  #特征值从小到大排序后的index \n",
    "print sortedindex \n",
    "sortedindex = sortedindex[:-5:-1]   # 我只取最大的4个特征值的id\n",
    "newv = v[:,sortedindex]   #取最大4个特征值对应的特征向量\n",
    "# print newv\n",
    "print m*newv   #PCA降维后的数据  \n"
   ]
  },
  {
   "cell_type": "code",
   "execution_count": null,
   "metadata": {
    "collapsed": true
   },
   "outputs": [],
   "source": []
  }
 ],
 "metadata": {
  "kernelspec": {
   "display_name": "Python 2",
   "language": "python",
   "name": "python2"
  },
  "language_info": {
   "codemirror_mode": {
    "name": "ipython",
    "version": 2
   },
   "file_extension": ".py",
   "mimetype": "text/x-python",
   "name": "python",
   "nbconvert_exporter": "python",
   "pygments_lexer": "ipython2",
   "version": "2.7.14"
  }
 },
 "nbformat": 4,
 "nbformat_minor": 2
}
