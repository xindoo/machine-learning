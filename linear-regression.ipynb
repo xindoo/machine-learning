{
 "cells": [
  {
   "cell_type": "code",
   "execution_count": 1,
   "metadata": {},
   "outputs": [
    {
     "data": {
      "image/png": "[encoded data removed]",
      "text/plain": [
       "<Figure size 432x288 with 1 Axes>"
      ]
     },
     "metadata": {
      "needs_background": "light"
     },
     "output_type": "display_data"
    }
   ],
   "source": [
    "import pandas as pd\n",
    "import matplotlib.pyplot as plt\n",
    "import numpy as np\n",
    "from scipy import stats\n",
    "\n",
    "# 构造数据\n",
    "x = np.arange(20)\n",
    "X = np.matrix(np.r_[np.ones(20), x].reshape(2, 20))\n",
    "y = (np.arange(20) + np.random.randn(20)) * 0.75 + 10\n",
    "theta = np.matrix(np.ones(2))\n",
    "plt.plot(x, y, '.')\n",
    "plt.ylim(0, max(y)+2)\n",
    "plt.show()  "
   ]
  },
  {
   "cell_type": "markdown",
   "metadata": {},
   "source": [
    "我这里以斜率为0.75，截距10随机产生了20个数字，如上图，然后以步长$\\alpha$为0.0001开始训练，训练过程中如果$\\alpha$就会出现来回震荡，cost函数越来越大的情况, theta[0],theta[1] 分别对应解决和斜率，为了对比我拟合的准确度，我用了scipy.stats中的linregress函数，貌似我的拟合结果比linregerss拟合好好一些。"
   ]
  },
  {
   "cell_type": "code",
   "execution_count": 4,
   "metadata": {},
   "outputs": [
    {
     "name": "stdout",
     "output_type": "stream",
     "text": [
      "[[625.32404259]]\n",
      "[[367.73037776]]\n",
      "[[298.03719314]]\n",
      "[[241.78020354]]\n",
      "[[196.36903607]]\n",
      "[[159.71271752]]\n",
      "[[130.1233948]]\n",
      "[[106.23861713]]\n",
      "[[86.95860149]]\n",
      "[[71.39559279]]\n",
      "[[58.8329868]]\n",
      "[[48.6923339]]\n",
      "[[40.50670416]]\n",
      "[[33.89918738]]\n",
      "[[28.56553811]]\n",
      "[[24.26016661]]\n",
      "[[20.78483052]]\n",
      "[[17.97950676]]\n",
      "[[15.71502322]]\n",
      "[[13.88711096]]\n",
      "[[12.41160311]]\n",
      "[[11.22055939]]\n",
      "[[10.25913777]]\n",
      "[[9.48306926]]\n",
      "[[8.85661951]]\n",
      "[[8.35094342]]\n",
      "[[7.94275696]]\n",
      "[[7.61326504]]\n",
      "[[7.34729608]]\n",
      "[[7.13260345]]\n",
      "[[6.95930155]]\n",
      "[[6.81941064]]\n",
      "[[6.7064894]]\n",
      "[[6.61533831]]\n",
      "[[6.5417603]]\n",
      "[[6.48236745]]\n",
      "[[6.43442498]]\n",
      "[[6.39572537]]\n",
      "[[6.36448669]]\n",
      "[[6.33927053]]\n",
      "[[6.31891581]]\n",
      "[[6.30248529]]\n",
      "[[6.28922242]]\n",
      "[[6.27851651]]\n",
      "[[6.2698746]]\n",
      "[[6.26289877]]\n",
      "[[6.25726781]]\n",
      "[[6.25272245]]\n",
      "[[6.2490534]]\n",
      "[[6.2460917]]\n",
      "[[10.12202637  0.76298728]]\n",
      "LinregressResult(slope=0.7596617157570227, intercept=10.165164957427596, rvalue=0.9919758089874289, pvalue=1.272300581963253e-17, stderr=0.022820521530477846)\n"
     ]
    }
   ],
   "source": [
    "\n",
    "# 开始做theta的梯度下降，这里相当于批梯度下降    \n",
    "for i in range(10000):\n",
    "    theta = theta - (0.0001*(theta*X - y)*X.T)\n",
    "    if i % 200 == 0:\n",
    "        print((theta*X - y)*(theta*X - y).T)\n",
    "print(theta)\n",
    "print(stats.linregress(x, y))"
   ]
  },
  {
   "cell_type": "code",
   "execution_count": 7,
   "metadata": {},
   "outputs": [
    {
     "data": {
      "image/png": "[encoded data removed]",
      "text/plain": [
       "<matplotlib.figure.Figure at 0x10bdfbc50>"
      ]
     },
     "metadata": {},
     "output_type": "display_data"
    }
   ],
   "source": [
    "thetaA = theta.getA()\n",
    "plt.plot(x, x*thetaA[0][1]+thetaA[0][0])\n",
    "plt.plot(x, y, '.')\n",
    "plt.ylim(0, max(y)+2)\n",
    "plt.show()"
   ]
  },
  {
   "cell_type": "markdown",
   "metadata": {
    "collapsed": true
   },
   "source": [
    "如上图，点是原始数据，蓝色的线是通过theta绘制出来拟合的线，因为feature只有一维并且是线性拟合，所以并不需要考虑正则化和过拟合。 "
   ]
  }
 ],
 "metadata": {
  "kernelspec": {
   "display_name": "Python 3",
   "language": "python",
   "name": "python3"
  },
  "language_info": {
   "codemirror_mode": {
    "name": "ipython",
    "version": 3
   },
   "file_extension": ".py",
   "mimetype": "text/x-python",
   "name": "python",
   "nbconvert_exporter": "python",
   "pygments_lexer": "ipython3",
   "version": "3.7.9"
  }
 },
 "nbformat": 4,
 "nbformat_minor": 2
}
