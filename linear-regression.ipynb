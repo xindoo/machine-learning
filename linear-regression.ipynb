{
 "cells": [
  {
   "cell_type": "code",
   "execution_count": 5,
   "metadata": {},
   "outputs": [
    {
     "data": {
      "image/png": "[encoded data removed]",
      "text/plain": [
       "<matplotlib.figure.Figure at 0x10bdfb990>"
      ]
     },
     "metadata": {},
     "output_type": "display_data"
    }
   ],
   "source": [
    "import pandas as pd\n",
    "import matplotlib.pyplot as plt\n",
    "import numpy as np\n",
    "from scipy import stats\n",
    "\n",
    "# 构造数据\n",
    "x = np.arange(20)\n",
    "X = np.matrix(np.r_[np.ones(20), x].reshape(2, 20))\n",
    "y = (np.arange(20) + np.random.randn(20)) * 0.75 + 10\n",
    "theta = np.matrix(np.ones(2))\n",
    "plt.plot(x, y, '.')\n",
    "plt.ylim(0, max(y)+2)\n",
    "plt.show()  "
   ]
  },
  {
   "cell_type": "markdown",
   "metadata": {},
   "source": [
    "我这里以斜率为0.75，截距10随机产生了20个数字，如上图，然后以步长$\\alpha$为0.0001开始训练，训练过程中如果$\\alpha$就会出现来回震荡，cost函数越来越大的情况, theta[0],theta[1] 分别对应解决和斜率，为了对比我拟合的准确度，我用了scipy.stats中的linregress函数，貌似我的拟合结果比linregerss拟合好好一些。"
   ]
  },
  {
   "cell_type": "code",
   "execution_count": 6,
   "metadata": {},
   "outputs": [
    {
     "name": "stdout",
     "output_type": "stream",
     "text": [
      "[[ 686.67128319]]\n",
      "[[ 339.54992151]]\n",
      "[[ 276.29829861]]\n",
      "[[ 225.24099781]]\n",
      "[[ 184.0270677]]\n",
      "[[ 150.75879836]]\n",
      "[[ 123.90434061]]\n",
      "[[ 102.22717148]]\n",
      "[[ 84.72915808]]\n",
      "[[ 70.60459822]]\n",
      "[[ 59.20312158]]\n",
      "[[ 49.99974314]]\n",
      "[[ 42.57069009]]\n",
      "[[ 36.57388909]]\n",
      "[[ 31.7332153]]\n",
      "[[ 27.8257782]]\n",
      "[[ 24.67165848]]\n",
      "[[ 22.12562359]]\n",
      "[[ 20.07044043]]\n",
      "[[ 18.4114774]]\n",
      "[[ 17.07234694]]\n",
      "[[ 15.99138833]]\n",
      "[[ 15.11882844]]\n",
      "[[ 14.41448994]]\n",
      "[[ 13.84594133]]\n",
      "[[ 13.38700358]]\n",
      "[[ 13.01654474]]\n",
      "[[ 12.71750691]]\n",
      "[[ 12.47612078]]\n",
      "[[ 12.28127164]]\n",
      "[[ 12.12398759]]\n",
      "[[ 11.99702644]]\n",
      "[[ 11.89454221]]\n",
      "[[ 11.81181598]]\n",
      "[[ 11.7450386]]\n",
      "[[ 11.69113528]]\n",
      "[[ 11.64762401]]\n",
      "[[ 11.61250131]]\n",
      "[[ 11.58414993]]\n",
      "[[ 11.56126444]]\n",
      "[[ 11.54279105]]\n",
      "[[ 11.52787917]]\n",
      "[[ 11.51584215]]\n",
      "[[ 11.50612576]]\n",
      "[[ 11.4982826]]\n",
      "[[ 11.49195152]]\n",
      "[[ 11.48684102]]\n",
      "[[ 11.48271578]]\n",
      "[[ 11.47938584]]\n",
      "[[ 11.47669789]]\n",
      "[[ 9.68518956  0.76938181]]\n",
      "LinregressResult(slope=0.76621366485557074, intercept=9.7262862308266396, rvalue=0.98563187263060437, pvalue=2.3529613718819086e-15, stderr=0.030949123487195331)\n"
     ]
    }
   ],
   "source": [
    "\n",
    "# 开始做theta的梯度下降，这里相当于批梯度下降    \n",
    "for i in range(10000):\n",
    "    theta = theta - (0.0001*(theta*X - y)*X.T)\n",
    "    if i % 200 == 0:\n",
    "        print (theta*X - y)*(theta*X - y).T\n",
    "print theta\n",
    "print stats.linregress(x, y)"
   ]
  },
  {
   "cell_type": "code",
   "execution_count": 7,
   "metadata": {},
   "outputs": [
    {
     "data": {
      "image/png": "[encoded data removed]",
      "text/plain": [
       "<matplotlib.figure.Figure at 0x10bdfbc50>"
      ]
     },
     "metadata": {},
     "output_type": "display_data"
    }
   ],
   "source": [
    "thetaA = theta.getA()\n",
    "plt.plot(x, x*thetaA[0][1]+thetaA[0][0])\n",
    "plt.plot(x, y, '.')\n",
    "plt.ylim(0, max(y)+2)\n",
    "plt.show()"
   ]
  },
  {
   "cell_type": "markdown",
   "metadata": {
    "collapsed": true
   },
   "source": [
    "如上图，点是原始数据，蓝色的线是通过theta绘制出来拟合的线，因为feature只有一维并且是线性拟合，所以并不需要考虑正则化和过拟合。 "
   ]
  }
 ],
 "metadata": {
  "kernelspec": {
   "display_name": "Python 2",
   "language": "python",
   "name": "python2"
  },
  "language_info": {
   "codemirror_mode": {
    "name": "ipython",
    "version": 2
   },
   "file_extension": ".py",
   "mimetype": "text/x-python",
   "name": "python",
   "nbconvert_exporter": "python",
   "pygments_lexer": "ipython2",
   "version": "2.7.14"
  }
 },
 "nbformat": 4,
 "nbformat_minor": 2
}
